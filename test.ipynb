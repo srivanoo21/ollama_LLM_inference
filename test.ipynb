{
 "cells": [
  {
   "cell_type": "code",
   "execution_count": 2,
   "metadata": {},
   "outputs": [],
   "source": [
    "from langchain_community.llms import Ollama"
   ]
  },
  {
   "cell_type": "code",
   "execution_count": 1,
   "metadata": {},
   "outputs": [
    {
     "name": "stdout",
     "output_type": "stream",
     "text": [
      "Collecting langchain-community\n",
      "  Using cached langchain_community-0.2.5-py3-none-any.whl.metadata (2.5 kB)\n",
      "Requirement already satisfied: PyYAML>=5.3 in d:\\data_science_stuff\\generative_ai_classes\\class_18_may_2024_ollama\\ollama\\venv\\lib\\site-packages (from langchain-community) (6.0.1)\n",
      "Collecting SQLAlchemy<3,>=1.4 (from langchain-community)\n",
      "  Downloading SQLAlchemy-2.0.31-cp310-cp310-win_amd64.whl.metadata (9.9 kB)\n",
      "Collecting aiohttp<4.0.0,>=3.8.3 (from langchain-community)\n",
      "  Using cached aiohttp-3.9.5-cp310-cp310-win_amd64.whl.metadata (7.7 kB)\n",
      "Collecting dataclasses-json<0.7,>=0.5.7 (from langchain-community)\n",
      "  Downloading dataclasses_json-0.6.7-py3-none-any.whl.metadata (25 kB)\n",
      "Collecting langchain<0.3.0,>=0.2.5 (from langchain-community)\n",
      "  Using cached langchain-0.2.5-py3-none-any.whl.metadata (7.0 kB)\n",
      "Collecting langchain-core<0.3.0,>=0.2.7 (from langchain-community)\n",
      "  Downloading langchain_core-0.2.9-py3-none-any.whl.metadata (6.0 kB)\n",
      "Collecting langsmith<0.2.0,>=0.1.0 (from langchain-community)\n",
      "  Downloading langsmith-0.1.81-py3-none-any.whl.metadata (13 kB)\n",
      "Collecting numpy<2,>=1 (from langchain-community)\n",
      "  Using cached numpy-1.26.4-cp310-cp310-win_amd64.whl.metadata (61 kB)\n",
      "Requirement already satisfied: requests<3,>=2 in d:\\data_science_stuff\\generative_ai_classes\\class_18_may_2024_ollama\\ollama\\venv\\lib\\site-packages (from langchain-community) (2.32.3)\n",
      "Collecting tenacity<9.0.0,>=8.1.0 (from langchain-community)\n",
      "  Downloading tenacity-8.4.1-py3-none-any.whl.metadata (1.2 kB)\n",
      "Collecting aiosignal>=1.1.2 (from aiohttp<4.0.0,>=3.8.3->langchain-community)\n",
      "  Using cached aiosignal-1.3.1-py3-none-any.whl.metadata (4.0 kB)\n",
      "Requirement already satisfied: attrs>=17.3.0 in d:\\data_science_stuff\\generative_ai_classes\\class_18_may_2024_ollama\\ollama\\venv\\lib\\site-packages (from aiohttp<4.0.0,>=3.8.3->langchain-community) (23.2.0)\n",
      "Collecting frozenlist>=1.1.1 (from aiohttp<4.0.0,>=3.8.3->langchain-community)\n",
      "  Using cached frozenlist-1.4.1-cp310-cp310-win_amd64.whl.metadata (12 kB)\n",
      "Collecting multidict<7.0,>=4.5 (from aiohttp<4.0.0,>=3.8.3->langchain-community)\n",
      "  Using cached multidict-6.0.5-cp310-cp310-win_amd64.whl.metadata (4.3 kB)\n",
      "Collecting yarl<2.0,>=1.0 (from aiohttp<4.0.0,>=3.8.3->langchain-community)\n",
      "  Using cached yarl-1.9.4-cp310-cp310-win_amd64.whl.metadata (32 kB)\n",
      "Collecting async-timeout<5.0,>=4.0 (from aiohttp<4.0.0,>=3.8.3->langchain-community)\n",
      "  Using cached async_timeout-4.0.3-py3-none-any.whl.metadata (4.2 kB)\n",
      "Collecting marshmallow<4.0.0,>=3.18.0 (from dataclasses-json<0.7,>=0.5.7->langchain-community)\n",
      "  Downloading marshmallow-3.21.3-py3-none-any.whl.metadata (7.1 kB)\n",
      "Collecting typing-inspect<1,>=0.4.0 (from dataclasses-json<0.7,>=0.5.7->langchain-community)\n",
      "  Using cached typing_inspect-0.9.0-py3-none-any.whl.metadata (1.5 kB)\n",
      "Collecting langchain-text-splitters<0.3.0,>=0.2.0 (from langchain<0.3.0,>=0.2.5->langchain-community)\n",
      "  Downloading langchain_text_splitters-0.2.1-py3-none-any.whl.metadata (2.2 kB)\n",
      "Requirement already satisfied: pydantic<3,>=1 in d:\\data_science_stuff\\generative_ai_classes\\class_18_may_2024_ollama\\ollama\\venv\\lib\\site-packages (from langchain<0.3.0,>=0.2.5->langchain-community) (2.7.4)\n",
      "Collecting jsonpatch<2.0,>=1.33 (from langchain-core<0.3.0,>=0.2.7->langchain-community)\n",
      "  Using cached jsonpatch-1.33-py2.py3-none-any.whl.metadata (3.0 kB)\n",
      "Requirement already satisfied: packaging<25,>=23.2 in d:\\data_science_stuff\\generative_ai_classes\\class_18_may_2024_ollama\\ollama\\venv\\lib\\site-packages (from langchain-core<0.3.0,>=0.2.7->langchain-community) (24.1)\n",
      "Requirement already satisfied: orjson<4.0.0,>=3.9.14 in d:\\data_science_stuff\\generative_ai_classes\\class_18_may_2024_ollama\\ollama\\venv\\lib\\site-packages (from langsmith<0.2.0,>=0.1.0->langchain-community) (3.10.5)\n",
      "Requirement already satisfied: charset-normalizer<4,>=2 in d:\\data_science_stuff\\generative_ai_classes\\class_18_may_2024_ollama\\ollama\\venv\\lib\\site-packages (from requests<3,>=2->langchain-community) (3.3.2)\n",
      "Requirement already satisfied: idna<4,>=2.5 in d:\\data_science_stuff\\generative_ai_classes\\class_18_may_2024_ollama\\ollama\\venv\\lib\\site-packages (from requests<3,>=2->langchain-community) (3.7)\n",
      "Requirement already satisfied: urllib3<3,>=1.21.1 in d:\\data_science_stuff\\generative_ai_classes\\class_18_may_2024_ollama\\ollama\\venv\\lib\\site-packages (from requests<3,>=2->langchain-community) (2.2.2)\n",
      "Requirement already satisfied: certifi>=2017.4.17 in d:\\data_science_stuff\\generative_ai_classes\\class_18_may_2024_ollama\\ollama\\venv\\lib\\site-packages (from requests<3,>=2->langchain-community) (2024.6.2)\n",
      "Requirement already satisfied: typing-extensions>=4.6.0 in d:\\data_science_stuff\\generative_ai_classes\\class_18_may_2024_ollama\\ollama\\venv\\lib\\site-packages (from SQLAlchemy<3,>=1.4->langchain-community) (4.12.2)\n",
      "Collecting greenlet!=0.4.17 (from SQLAlchemy<3,>=1.4->langchain-community)\n",
      "  Using cached greenlet-3.0.3-cp310-cp310-win_amd64.whl.metadata (3.9 kB)\n",
      "Collecting jsonpointer>=1.9 (from jsonpatch<2.0,>=1.33->langchain-core<0.3.0,>=0.2.7->langchain-community)\n",
      "  Downloading jsonpointer-3.0.0-py2.py3-none-any.whl.metadata (2.3 kB)\n",
      "Requirement already satisfied: annotated-types>=0.4.0 in d:\\data_science_stuff\\generative_ai_classes\\class_18_may_2024_ollama\\ollama\\venv\\lib\\site-packages (from pydantic<3,>=1->langchain<0.3.0,>=0.2.5->langchain-community) (0.7.0)\n",
      "Requirement already satisfied: pydantic-core==2.18.4 in d:\\data_science_stuff\\generative_ai_classes\\class_18_may_2024_ollama\\ollama\\venv\\lib\\site-packages (from pydantic<3,>=1->langchain<0.3.0,>=0.2.5->langchain-community) (2.18.4)\n",
      "Collecting mypy-extensions>=0.3.0 (from typing-inspect<1,>=0.4.0->dataclasses-json<0.7,>=0.5.7->langchain-community)\n",
      "  Using cached mypy_extensions-1.0.0-py3-none-any.whl.metadata (1.1 kB)\n",
      "Downloading langchain_community-0.2.5-py3-none-any.whl (2.2 MB)\n",
      "   ---------------------------------------- 0.0/2.2 MB ? eta -:--:--\n",
      "   ------- -------------------------------- 0.4/2.2 MB 8.9 MB/s eta 0:00:01\n",
      "   -------------- ------------------------- 0.8/2.2 MB 8.4 MB/s eta 0:00:01\n",
      "   ------------------ --------------------- 1.0/2.2 MB 7.1 MB/s eta 0:00:01\n",
      "   --------------------- ------------------ 1.2/2.2 MB 6.2 MB/s eta 0:00:01\n",
      "   -------------------------- ------------- 1.5/2.2 MB 6.7 MB/s eta 0:00:01\n",
      "   ---------------------------------- ----- 1.9/2.2 MB 7.1 MB/s eta 0:00:01\n",
      "   ---------------------------------------  2.2/2.2 MB 7.0 MB/s eta 0:00:01\n",
      "   ---------------------------------------  2.2/2.2 MB 7.0 MB/s eta 0:00:01\n",
      "   ---------------------------------------- 2.2/2.2 MB 5.6 MB/s eta 0:00:00\n",
      "Using cached aiohttp-3.9.5-cp310-cp310-win_amd64.whl (370 kB)\n",
      "Downloading dataclasses_json-0.6.7-py3-none-any.whl (28 kB)\n",
      "Downloading langchain-0.2.5-py3-none-any.whl (974 kB)\n",
      "   ---------------------------------------- 0.0/974.6 kB ? eta -:--:--\n",
      "   ------------------- ------------------- 491.5/974.6 kB 10.2 MB/s eta 0:00:01\n",
      "   -------------------------------------- - 942.1/974.6 kB 9.9 MB/s eta 0:00:01\n",
      "   ---------------------------------------  972.8/974.6 kB 8.8 MB/s eta 0:00:01\n",
      "   ---------------------------------------- 974.6/974.6 kB 6.2 MB/s eta 0:00:00\n",
      "Downloading langchain_core-0.2.9-py3-none-any.whl (321 kB)\n",
      "   ---------------------------------------- 0.0/321.8 kB ? eta -:--:--\n",
      "   --------------------------------------- 321.8/321.8 kB 10.1 MB/s eta 0:00:00\n",
      "Downloading langsmith-0.1.81-py3-none-any.whl (127 kB)\n",
      "   ---------------------------------------- 0.0/127.1 kB ? eta -:--:--\n",
      "   ---------------------------------------- 127.1/127.1 kB 7.3 MB/s eta 0:00:00\n",
      "Using cached numpy-1.26.4-cp310-cp310-win_amd64.whl (15.8 MB)\n",
      "Downloading SQLAlchemy-2.0.31-cp310-cp310-win_amd64.whl (2.1 MB)\n",
      "   ---------------------------------------- 0.0/2.1 MB ? eta -:--:--\n",
      "   ---------- ----------------------------- 0.6/2.1 MB 11.8 MB/s eta 0:00:01\n",
      "   --------------------- ------------------ 1.1/2.1 MB 11.5 MB/s eta 0:00:01\n",
      "   --------------------------------- ------ 1.8/2.1 MB 12.4 MB/s eta 0:00:01\n",
      "   ---------------------------------------- 2.1/2.1 MB 12.0 MB/s eta 0:00:00\n",
      "Downloading tenacity-8.4.1-py3-none-any.whl (27 kB)\n",
      "Using cached aiosignal-1.3.1-py3-none-any.whl (7.6 kB)\n",
      "Using cached async_timeout-4.0.3-py3-none-any.whl (5.7 kB)\n",
      "Using cached frozenlist-1.4.1-cp310-cp310-win_amd64.whl (50 kB)\n",
      "Using cached greenlet-3.0.3-cp310-cp310-win_amd64.whl (292 kB)\n",
      "Using cached jsonpatch-1.33-py2.py3-none-any.whl (12 kB)\n",
      "Downloading langchain_text_splitters-0.2.1-py3-none-any.whl (23 kB)\n",
      "Downloading marshmallow-3.21.3-py3-none-any.whl (49 kB)\n",
      "   ---------------------------------------- 0.0/49.2 kB ? eta -:--:--\n",
      "   ---------------------------------------- 49.2/49.2 kB 2.4 MB/s eta 0:00:00\n",
      "Using cached multidict-6.0.5-cp310-cp310-win_amd64.whl (28 kB)\n",
      "Using cached typing_inspect-0.9.0-py3-none-any.whl (8.8 kB)\n",
      "Using cached yarl-1.9.4-cp310-cp310-win_amd64.whl (76 kB)\n",
      "Downloading jsonpointer-3.0.0-py2.py3-none-any.whl (7.6 kB)\n",
      "Using cached mypy_extensions-1.0.0-py3-none-any.whl (4.7 kB)\n",
      "Installing collected packages: tenacity, numpy, mypy-extensions, multidict, marshmallow, jsonpointer, greenlet, frozenlist, async-timeout, yarl, typing-inspect, SQLAlchemy, jsonpatch, aiosignal, langsmith, dataclasses-json, aiohttp, langchain-core, langchain-text-splitters, langchain, langchain-community\n",
      "  Attempting uninstall: numpy\n",
      "    Found existing installation: numpy 2.0.0\n",
      "    Uninstalling numpy-2.0.0:\n",
      "      Successfully uninstalled numpy-2.0.0\n",
      "Successfully installed SQLAlchemy-2.0.31 aiohttp-3.9.5 aiosignal-1.3.1 async-timeout-4.0.3 dataclasses-json-0.6.7 frozenlist-1.4.1 greenlet-3.0.3 jsonpatch-1.33 jsonpointer-3.0.0 langchain-0.2.5 langchain-community-0.2.5 langchain-core-0.2.9 langchain-text-splitters-0.2.1 langsmith-0.1.81 marshmallow-3.21.3 multidict-6.0.5 mypy-extensions-1.0.0 numpy-1.26.4 tenacity-8.4.1 typing-inspect-0.9.0 yarl-1.9.4\n"
     ]
    }
   ],
   "source": [
    "!pip install langchain-community"
   ]
  },
  {
   "cell_type": "code",
   "execution_count": 3,
   "metadata": {},
   "outputs": [],
   "source": [
    "model = Ollama(base_url=\"http://localhost:11434\", model=\"phi3\")"
   ]
  },
  {
   "cell_type": "code",
   "execution_count": 4,
   "metadata": {},
   "outputs": [
    {
     "name": "stderr",
     "output_type": "stream",
     "text": [
      "d:\\Data_Science_stuff\\Generative_AI_classes\\class_18_May_2024_Ollama\\ollama\\venv\\lib\\site-packages\\langchain_core\\_api\\deprecation.py:139: LangChainDeprecationWarning: The method `BaseLLM.__call__` was deprecated in langchain-core 0.1.7 and will be removed in 0.3.0. Use invoke instead.\n",
      "  warn_deprecated(\n"
     ]
    },
    {
     "data": {
      "text/plain": [
       "\"Yes, there are several groundbreaking research areas within artificial intelligence (AI) that have significantly impacted both academia and industry. Here's a list of some of the most influential advancements:\\n\\n1. Deep Learning: The development of deep learning neural networks has revolutionized AI by enabling machines to learn complex patterns from vast amounts of data, leading to significant breakthroughs in image recognition (ImageNet Challenge), natural language processing (GPT-3 and BERT models), and more.\\n\\n2. Reinforcement Learning: This approach allows an agent to learn optimal actions through trial and error by interacting with its environment, as seen in AlphaGo's victory against a world champion Go player or the development of autonomous robots that can navigate dynamic environments.\\n\\n3. Generative Adversarial Networks (GANs): GANs have had a major impact on AI research and applications by producing realistic synthetic images, videos, and even audio. They are widely used for data augmentation, style transfer, image-to-image translation, and content creation.\\n\\n4. Attention Mechanisms: The invention of attention mechanisms (e.g., the Transformer architecture) has greatly enhanced AI's ability to handle sequential or time-series data, leading to advances in machine translation, speech recognition, text summarization, and more.\\n\\n5. Transfer Learning & Few-Shot Learning: These approaches have enabled researchers to leverage pre-trained models on one task to solve related problems much faster. This has democratized AI access by lowering the barrier for entry in developing applications that require large amounts of training data.\\n\\n6. Explainable AI (XAI): As AI systems become more complex and their decision-making processes harder to understand, XAI research aims to develop methods for creating explainable models with interpretable results. This is vital for building trust and ensuring accountability in sensitive areas such as healthcare, finance, or criminal justice applications.\\n\\n7. Unsupervised Learning: Recent advancements have allowed AI algorithms to learn from unlabeled data (e.g., clustering) without relying on human-annotated examples. This is particularly useful for tasks where labeled data may be scarce or expensive to obtain.\\n\\n8. Evolutionary Computing & Optimization: Algorithms inspired by natural evolution, such as genetic algorithms and swarm intelligence (e.g., Particle Swarm Optimization), have demonstrated impressive results in optimization problems across various domains including logistics, engineering design, and machine learning hyperparameter tuning.\\n\\n9. Causal Reasoning & Inference: Research on causal reasoning aims to enable AI systems to make inferences about cause-and-effect relationships within data, allowing for better decision making and prediction of outcomes in fields such as healthcare diagnostics and policy modeling.\\n\\n10. Neuromorphic Computing: This emerging technology mimics the neural architecture of the human brain on a silicon chip, offering potential advances in processing speed, energy efficiency, and learning capabilities for AI systems.\\n\\nThese significant research areas continue to shape the field of artificial intelligence and have laid the foundation for future innovations that will likely transform various industries and aspects of everyday life.\""
      ]
     },
     "execution_count": 4,
     "metadata": {},
     "output_type": "execute_result"
    }
   ],
   "source": [
    "model(\"hi, can you tell me the most significant research in the field of AI\")"
   ]
  },
  {
   "cell_type": "code",
   "execution_count": 5,
   "metadata": {},
   "outputs": [
    {
     "data": {
      "text/plain": [
       "'Absolutely! Artificial Intelligence (AI) is a branch of computer science that focuses on creating systems capable of performing tasks that typically require human intelligence. These tasks include learning, reasoning, problem-solving, perception, and natural language understanding.\\n\\nThere are two main types of AI: Narrow or Weak AI, which is designed to perform a specific task (e.g., voice recognition systems, virtual assistants like Siri, and recommendation engines), and General or Strong AI, which possesses the ability to understand, learn, and apply knowledge in any domain that a human being can. While we\\'ve made significant progress with Narrow AI, achieving General AI remains a long-term goal for researchers.\\n\\nSome key areas of AI include:\\n\\n1. Machine Learning (ML): A subset of AI which involves the development of algorithms and statistical models that enable computers to perform tasks by learning from data. ML encompasses various techniques, including supervised learning, unsupervised learning, and reinforcement learning.\\n\\n2. Deep Learning: An advanced technique within machine learning that uses artificial neural networks with multiple layers (hence the term \"deep\") to learn complex patterns in large amounts of data. It has significantly impacted computer vision, speech recognition, natural language processing, and more recently enabled advances like AI-driven autonomous vehicles and facial recognition technologies.\\n\\n3. Natural Language Processing (NLP): The branch of AI that focuses on enabling computers to understand, interpret, and generate human languages. NLP is responsible for creating virtual assistants, chatbots, machine translation services like Google Translate, text summarization, sentiment analysis, and more.\\n\\n4. Robotics: Incorporating AI into the design of physical robots that can perform tasks autonomously or semi-autonomously by interpreting sensor data, making decisions based on it, and carrying out actions in their environment.\\n\\n5. Computer Vision: An interdisciplinary field combining image processing, pattern recognition, machine learning, and statistics to analyze digital images or videos with the goal of automating tasks that a human might perform using vision (e.g., identifying objects within an image).\\n\\n6. Expert Systems: AI systems designed to mimic human expertise by encapsulating knowledge in specific domains into computer programs, enabling them to provide advice or make recommendations based on the information and rules they contain.\\n\\nAI is being applied across numerous industries, ranging from healthcare (e.g., diagnosing diseases), finance (e.g., algorithmic trading) to retail (e.g., personalized product recommendations). As AI continues to advance, it raises ethical concerns and challenges related to privacy, job displacement, accountability for decision-making systems, and more, which must be addressed as the technology develops.'"
      ]
     },
     "execution_count": 5,
     "metadata": {},
     "output_type": "execute_result"
    }
   ],
   "source": [
    "model(\"hi, can you tell me about AI\")"
   ]
  },
  {
   "cell_type": "code",
   "execution_count": null,
   "metadata": {},
   "outputs": [],
   "source": []
  }
 ],
 "metadata": {
  "kernelspec": {
   "display_name": "Python 3",
   "language": "python",
   "name": "python3"
  },
  "language_info": {
   "codemirror_mode": {
    "name": "ipython",
    "version": 3
   },
   "file_extension": ".py",
   "mimetype": "text/x-python",
   "name": "python",
   "nbconvert_exporter": "python",
   "pygments_lexer": "ipython3",
   "version": "3.10.0"
  }
 },
 "nbformat": 4,
 "nbformat_minor": 2
}
